{
 "cells": [
  {
   "cell_type": "markdown",
   "metadata": {},
   "source": [
    "# Image Matrix Histogramm vs Random Histogram Comparison\n",
    "In this notebook, a matrix representing a satellite image of 8-bit values is turned into a histogram. The histogram visualizes the distribution of values, so that it is possible to see that the satellite image scene is coherent in its values. We expect to see clear clustering of values, indicating that most of the scene can be classified as one land use category like farming, water or as an urban area."
   ]
  },
  {
   "cell_type": "code",
   "execution_count": 12,
   "metadata": {},
   "outputs": [],
   "source": [
    "import pandas as pd\n",
    "import numpy as np\n",
    "import matplotlib.pyplot as plt"
   ]
  },
  {
   "cell_type": "markdown",
   "metadata": {},
   "source": [
    "Now, we load the image matrix for this example. Also, we load a matrix of the same size, but with random pixel values. To have a quick look, we output the matrix"
   ]
  },
  {
   "cell_type": "code",
   "execution_count": 13,
   "metadata": {},
   "outputs": [
    {
     "name": "stdout",
     "output_type": "stream",
     "text": [
      "\n",
      "\n",
      "Image Matrix\n",
      "          A    B    C    D    E\n",
      "index                         \n",
      "1      181  175  151  118  117\n",
      "2      179  175  172  148  108\n",
      "3      166  165  179  176  127\n",
      "4      178  175  180  186  162\n",
      "5      188  185  181  181  184\n",
      "6      183  180  183  181  184\n",
      "7      175  182  193  190  174\n",
      "8      181  188  189  181  166\n",
      "9      182  185  175  166  168\n",
      "\n",
      "\n",
      "Random Image Matrix\n",
      "          A    B    C    D    E\n",
      "index                         \n",
      "1       96   81  211  102    9\n",
      "2      154  232   84   21  225\n",
      "3      122  200   60  180  251\n",
      "4      211   70  157  244   44\n",
      "5      171  242   74   53   88\n",
      "6       14  189  242   56  184\n",
      "7       94   80  141  162  144\n",
      "8      217  115   30   70  147\n",
      "9      127  214  129  161  181\n"
     ]
    }
   ],
   "source": [
    "image_matrix = pd.read_csv(\"data/ImageMtrx.csv\",delimiter=\";\",index_col=\"index\")\n",
    "image_matrix_random =pd.read_csv(\"data/ImageMtrx_random.csv\",delimiter=\";\",index_col=\"index\")\n",
    "print(\"\\n\\nImage Matrix\\n\",image_matrix)\n",
    "print(\"\\n\\nRandom Image Matrix\\n\",image_matrix_random)"
   ]
  },
  {
   "cell_type": "markdown",
   "metadata": {},
   "source": [
    "After looking at the numbers, we plot both matrixes using imshow from pyplot."
   ]
  },
  {
   "cell_type": "code",
   "execution_count": 14,
   "metadata": {},
   "outputs": [
    {
     "name": "stdout",
     "output_type": "stream",
     "text": [
      "\n",
      "\n",
      "Image Matrix Visualization\n"
     ]
    },
    {
     "data": {
      "text/plain": [
       "<matplotlib.image.AxesImage at 0x11701b400>"
      ]
     },
     "execution_count": 14,
     "metadata": {},
     "output_type": "execute_result"
    },
    {
     "data": {
      "image/png": "[encoded data removed]",
      "text/plain": [
       "<Figure size 432x288 with 1 Axes>"
      ]
     },
     "metadata": {
      "needs_background": "light"
     },
     "output_type": "display_data"
    }
   ],
   "source": [
    "\"\"\" Quick Visualzation of IMAGE MATRIX as raster using imshow\"\"\"\n",
    "print(\"\\n\\nImage Matrix Visualization\")\n",
    "plt.imshow(image_matrix, cmap=\"gray\")"
   ]
  },
  {
   "cell_type": "code",
   "execution_count": 15,
   "metadata": {},
   "outputs": [
    {
     "name": "stdout",
     "output_type": "stream",
     "text": [
      "\n",
      "\n",
      "Random Image Matrix Visualization\n"
     ]
    },
    {
     "data": {
      "text/plain": [
       "<matplotlib.image.AxesImage at 0x1170c4ba8>"
      ]
     },
     "execution_count": 15,
     "metadata": {},
     "output_type": "execute_result"
    },
    {
     "data": {
      "image/png": "[encoded data removed]",
      "text/plain": [
       "<Figure size 432x288 with 1 Axes>"
      ]
     },
     "metadata": {
      "needs_background": "light"
     },
     "output_type": "display_data"
    }
   ],
   "source": [
    "\"\"\"Quick Visualzation of RANDOM IMAGE MATRIX as raster using imshow\"\"\"\n",
    "print(\"\\n\\nRandom Image Matrix Visualization\")\n",
    "plt.imshow(image_matrix_random, cmap=\"gray\")"
   ]
  },
  {
   "cell_type": "markdown",
   "metadata": {},
   "source": [
    "We can see that the \"real\" image has a clustering in one corner. transfering this to a real life example would be for example a city on the edge of the picture, sourrounded by fields.\n",
    "\n",
    "Following the visualization, we have a look at the histographs of both images"
   ]
  },
  {
   "cell_type": "code",
   "execution_count": 16,
   "metadata": {},
   "outputs": [],
   "source": [
    "\"\"\"DataFrame to numpy array\"\"\"\n",
    "image_matrix_np = np.asarray(image_matrix)\n",
    "image_matrix_random_np = np.asarray(image_matrix_random)\n",
    "\"\"\"unpack nested list to flat list for hist() function\"\"\"\n",
    "image_matrix_flatList = [item for sublist in image_matrix_np for item in sublist]\n",
    "image_matrix_random_flatList = [item for sublist in image_matrix_random_np for item in sublist]"
   ]
  },
  {
   "cell_type": "code",
   "execution_count": 17,
   "metadata": {},
   "outputs": [
    {
     "data": {
      "text/plain": [
       "(0.0, 20.0)"
      ]
     },
     "execution_count": 17,
     "metadata": {},
     "output_type": "execute_result"
    },
    {
     "data": {
      "image/png": "[encoded data removed]",
      "text/plain": [
       "<Figure size 432x288 with 1 Axes>"
      ]
     },
     "metadata": {
      "needs_background": "light"
     },
     "output_type": "display_data"
    }
   ],
   "source": [
    "\"\"\"Graph IMAGE MATRIX\"\"\"\n",
    "bins = np.arange(0, np.asarray(image_matrix_flatList).max() + 1.5) - 0.5\n",
    "\n",
    "n, bins, patches = plt.hist(image_matrix_flatList, bins=\"auto\", color='#0504aa', alpha=0.75, rwidth=0.85)\n",
    "plt.grid(axis='y', alpha=0.75)\n",
    "plt.xlabel('Values')\n",
    "plt.ylabel('Frequency')\n",
    "plt.title('Histogram (Image Matrix)')\n",
    "maxfreq = n.max()\n",
    "plt.ylim(ymax=np.ceil(maxfreq / 10) * 10 if maxfreq % 10 else maxfreq + 10)"
   ]
  },
  {
   "cell_type": "code",
   "execution_count": 18,
   "metadata": {},
   "outputs": [
    {
     "data": {
      "text/plain": [
       "(0.0, 10.0)"
      ]
     },
     "execution_count": 18,
     "metadata": {},
     "output_type": "execute_result"
    },
    {
     "data": {
      "image/png": "[encoded data removed]",
      "text/plain": [
       "<Figure size 432x288 with 1 Axes>"
      ]
     },
     "metadata": {
      "needs_background": "light"
     },
     "output_type": "display_data"
    }
   ],
   "source": [
    "\"\"\"Graph RANDOM IMAGE MATRIX\"\"\"\n",
    "bins = np.arange(0, np.asarray(image_matrix_random_flatList).max() + 1.5) - 0.5\n",
    "\n",
    "n, bins, patches = plt.hist(image_matrix_random_flatList, bins=10, color='#0504aa', alpha=0.75, rwidth=0.85)\n",
    "plt.grid(axis='y', alpha=0.75)\n",
    "plt.xlabel('Values')\n",
    "plt.ylabel('Frequency')\n",
    "plt.title('Histogram (Image Matrix Random)')\n",
    "maxfreq = n.max()\n",
    "plt.ylim(ymax=np.ceil(maxfreq / 10) * 10 if maxfreq % 10 else maxfreq + 10)"
   ]
  },
  {
   "cell_type": "markdown",
   "metadata": {},
   "source": [
    "As predicted, the \"real\" image shows two clusters, one around the 180 and one around the 120 mark. Values under 100 or over 200 are not present. This indicates that there is a spatial autocorrelation within the pixels of the image.\n",
    "The random matrix on the other hand shows no clusters and a random districution of values, indicating that there is no spatial autocorrelation within the image."
   ]
  }
 ],
 "metadata": {
  "kernelspec": {
   "display_name": "Python 3",
   "language": "python",
   "name": "python3"
  },
  "language_info": {
   "codemirror_mode": {
    "name": "ipython",
    "version": 3
   },
   "file_extension": ".py",
   "mimetype": "text/x-python",
   "name": "python",
   "nbconvert_exporter": "python",
   "pygments_lexer": "ipython3",
   "version": "3.7.3"
  }
 },
 "nbformat": 4,
 "nbformat_minor": 4
}
