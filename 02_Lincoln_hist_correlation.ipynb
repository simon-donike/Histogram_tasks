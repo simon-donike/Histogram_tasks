{
 "cells": [
  {
   "cell_type": "code",
   "execution_count": 2,
   "metadata": {},
   "outputs": [],
   "source": [
    "import pandas as pd\n",
    "import numpy as np\n",
    "import matplotlib.pyplot as plt"
   ]
  },
  {
   "cell_type": "code",
   "execution_count": 15,
   "metadata": {},
   "outputs": [
    {
     "name": "stdout",
     "output_type": "stream",
     "text": [
      "         A    B    C    D    E    F    G    H    I    J    K    L    M    N\n",
      "index                                                                      \n",
      "1      240  240  240  240  240  210   90   80  140  240  240  240  240  240\n",
      "2      240  240  240  240  160   20   10   10   40   40  240  240  240  240\n",
      "3      240  240  240   90   20  110  160   10   10   20   20  240  240  240\n",
      "4      240  240  110   10   90  240  240  210  140   40   10  190  240  240\n",
      "5      240  240   80   20  140  210  210  210  210   90   90   80  240  240\n",
      "6      240  240   40   20  110  190  210  210  210  190  190   10  240  240\n",
      "7      240   90   70   20   90  190   80   40  110  110   40   10  240  240\n",
      "8      240   90  160   70   80  140  130   70  140   70   40  110  240  240\n",
      "9      240  160  130  210   90  190  190  190  210  190   90  160  240  240\n",
      "10     240  240   90  210   70   90  190  190  130  130   90  190  240  240\n",
      "11     240  240  140   70   80   80  130  130  190   60   90  240  240  240\n",
      "12     240  190  140  130   70   90  190  130  110   20   80  240  240  240\n",
      "13     190  160  140  110   90   70   90   90  110   60   80  240  240  240\n",
      "14     190  160  140   40  160   80   20   10   20   10  130  240  240  240\n",
      "15     190  160  140   20   70  255  110   80   90  130  130  240  240  240\n",
      "16     110   20  140   20   10   20   10   20   80  110   20  190  240  240\n",
      "17      80   10  140   10   20   10   20   10   20   20   10   10   40  210\n",
      "18      80   20  140   20   10   20   10   90   80   40   40   10   10   40\n"
     ]
    }
   ],
   "source": [
    "\"\"\"Read csv to pandas Dataframe\"\"\"\n",
    "lincoln_df = pd.read_csv(\"data/linc_seg.csv\",delimiter=\";\",index_col=\"index\")\n",
    "print(lincoln_df)"
   ]
  },
  {
   "cell_type": "code",
   "execution_count": 16,
   "metadata": {},
   "outputs": [],
   "source": [
    "\"\"\"Lincoln DataFrame to numpy array\"\"\"\n",
    "lincoln_array = np.asarray(lincoln_df)\n",
    "\"\"\"unpack nested list to flat list for hist() function\"\"\"\n",
    "lincoln_flatList = [item for sublist in lincoln_array for item in sublist]"
   ]
  },
  {
   "cell_type": "code",
   "execution_count": 17,
   "metadata": {},
   "outputs": [
    {
     "data": {
      "text/plain": [
       "(0.0, 80.0)"
      ]
     },
     "execution_count": 17,
     "metadata": {},
     "output_type": "execute_result"
    },
    {
     "data": {
      "image/png": "[encoded data removed]",
      "text/plain": [
       "<Figure size 432x288 with 1 Axes>"
      ]
     },
     "metadata": {
      "needs_background": "light"
     },
     "output_type": "display_data"
    }
   ],
   "source": [
    "#bins_lincoln = np.arange(0, np.asarray(lincoln_flatList).max() + 1.5) - 0.5\n",
    "\n",
    "n, bins, patches = plt.hist(lincoln_flatList, bins=10, color='#0504aa', alpha=0.75, rwidth=0.85)\n",
    "plt.grid(axis='y', alpha=0.75)\n",
    "plt.xlabel('Values')\n",
    "plt.ylabel('Frequency')\n",
    "plt.title(\"Histogram (Lincoln \"+str(len(bins)-1)+\" bins)\") #Automatically put bins Number in Title\n",
    "maxfreq = n.max()\n",
    "plt.ylim(ymax=np.ceil(maxfreq / 10) * 10 if maxfreq % 10 else maxfreq + 10)"
   ]
  },
  {
   "cell_type": "code",
   "execution_count": null,
   "metadata": {},
   "outputs": [],
   "source": []
  }
 ],
 "metadata": {
  "kernelspec": {
   "display_name": "Python 3",
   "language": "python",
   "name": "python3"
  },
  "language_info": {
   "codemirror_mode": {
    "name": "ipython",
    "version": 3
   },
   "file_extension": ".py",
   "mimetype": "text/x-python",
   "name": "python",
   "nbconvert_exporter": "python",
   "pygments_lexer": "ipython3",
   "version": "3.7.3"
  }
 },
 "nbformat": 4,
 "nbformat_minor": 4
}
