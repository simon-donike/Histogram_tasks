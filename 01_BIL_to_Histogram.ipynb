{
 "cells": [
  {
   "cell_type": "markdown",
   "metadata": {},
   "source": [
    "# Example: BIL to Histogram using python\n",
    "In this example, the following **BIL** with two bands (*Band A* and *Band B*) is given:\n",
    "\n",
    "[5,3,4,5,4,5,5,4,6,7,2,2,3,4,4,2,4,6,5,5,2,1,3,3,6,5,3,5,7,6,2,7,6,6,9,1,4,5,6,8,3,6,8,8,8,1,5,8,8,8]\n",
    "\n",
    "A quick visualization of both bands as a matrix is created as well as histograms showing the frequencies of the values for both bands."
   ]
  },
  {
   "cell_type": "markdown",
   "metadata": {},
   "source": [
    "Firstly, all libraries which will be used are imported. Then, the BIL is stored as a list. The BIL data format stores the binary pixel values line by line, meaning that in this example the first 5 values are the first row of band A left to right, the second 5 values are the first row of band B left to right, continuing with the next 5 representing the 2nd line of band A and so on.\n",
    "To extract the numbers in the correct order, always 5 numbers are taken and stored turn by turn into the list for band A and the list for band B, until there are no more values. The result are nested lists for each band, where the lists represent the rows and the index within the row the pixel location."
   ]
  },
  {
   "cell_type": "code",
   "execution_count": 3,
   "metadata": {},
   "outputs": [],
   "source": [
    "import numpy as np\n",
    "import pandas as pd\n",
    "import matplotlib.pyplot as plt\n",
    "\n",
    "bil = [5,3,4,5,4,5,5,4,6,7,2,2,3,4,4,2,4,6,5,5,2,1,3,3,6,5,3,5,7,6,2,7,6,6,9,1,4,5,6,8,3,6,8,8,8,1,5,8,8,8]\n",
    "bil_copy = bil #copying bil because splitting process destoys list\n",
    "\n",
    "\n",
    "band_a = []\n",
    "band_b = []\n",
    "\n",
    "while len(bil_copy) >  0:\n",
    "    band_a.append(bil_copy[:5]) #Taking first 5 values to band a\n",
    "    bil_copy = bil_copy[5:] #deleting already copied values\n",
    "    band_b.append(bil_copy[:5]) #Taking first 5 values to band b\n",
    "    bil_copy = bil_copy[5:] #deleting already copied values"
   ]
  },
  {
   "cell_type": "markdown",
   "metadata": {},
   "source": [
    "Printing both nested lists of the bands shows the pixel values already in their right lications within the matrix.\n",
    "\n",
    "*For larger datasets, Pandas DataFrame or the (discouraged) NumPy Matrix should be used to store those values*"
   ]
  },
  {
   "cell_type": "code",
   "execution_count": 5,
   "metadata": {},
   "outputs": [
    {
     "name": "stdout",
     "output_type": "stream",
     "text": [
      "Matrix Band A\n",
      "[5, 3, 4, 5, 4]\n",
      "[2, 2, 3, 4, 4]\n",
      "[2, 1, 3, 3, 6]\n",
      "[2, 7, 6, 6, 9]\n",
      "[3, 6, 8, 8, 8]\n",
      "Matrix Band B\n",
      "[5, 5, 4, 6, 7]\n",
      "[2, 4, 6, 5, 5]\n",
      "[5, 3, 5, 7, 6]\n",
      "[1, 4, 5, 6, 8]\n",
      "[1, 5, 8, 8, 8]\n"
     ]
    }
   ],
   "source": [
    "print(\"Matrix Band A\")\n",
    "for row in band_a:\n",
    "    print(row)\n",
    "print(\"Matrix Band B\")\n",
    "for row in band_b:\n",
    "    print(row)"
   ]
  },
  {
   "cell_type": "markdown",
   "metadata": {},
   "source": [
    "Because our current band lists are nested lists, we unpack the lists. This is important because the histogram function does not take position into account, only the number of occurences, meaning all values need to be in one list."
   ]
  },
  {
   "cell_type": "code",
   "execution_count": 6,
   "metadata": {},
   "outputs": [],
   "source": [
    "band_a_flatList = [item for sublist in band_a for item in sublist]\n",
    "band_b_flatList = [item for sublist in band_b for item in sublist]"
   ]
  },
  {
   "cell_type": "markdown",
   "metadata": {},
   "source": [
    "After the visualization, we transform the lists into numpy arrays using the asarray() function from numpy. The type is printed to verify the result"
   ]
  },
  {
   "cell_type": "code",
   "execution_count": 7,
   "metadata": {},
   "outputs": [
    {
     "name": "stdout",
     "output_type": "stream",
     "text": [
      "<class 'numpy.ndarray'>\n",
      "<class 'numpy.ndarray'>\n"
     ]
    }
   ],
   "source": [
    "band_a_array , band_b_array = np.asarray(band_a_flatList) , np.asarray(band_b_flatList)\n",
    "print(type(band_a_array))\n",
    "print(type(band_b_array))"
   ]
  },
  {
   "cell_type": "markdown",
   "metadata": {},
   "source": [
    "Now, we move on to plot the histograms.\n",
    "The function hist() from matplotlib.pyplot creates histograms from numpy arrays. The function takes the array as well as several other arguments such as transparancy (*alpha*), width of bars (*rwidth*) and the *bins*. If no bins are used, every unique value gets it's own bar, which is not useful when dealing with large datasets or floating point numbers. Bins are used to group values, for example in 10% groups. In our example, we have to adapt these bins so that each integer gets it's own \"group\". For that, we place the separator in 0.5 intervals around our values (for example: *0.5-1.5* in order to count the *1* values). We look at the complete dataset (Band A & B) to determine our lower and upper boundaries of the bins."
   ]
  },
  {
   "cell_type": "code",
   "execution_count": 8,
   "metadata": {},
   "outputs": [
    {
     "name": "stdout",
     "output_type": "stream",
     "text": [
      "[-0.5  0.5  1.5  2.5  3.5  4.5  5.5  6.5  7.5  8.5  9.5]\n"
     ]
    }
   ],
   "source": [
    "bins = np.arange(0, np.asarray(bil).max() + 1.5) - 0.5\n",
    "print(bins)"
   ]
  },
  {
   "cell_type": "markdown",
   "metadata": {},
   "source": [
    "After determining the bins, we can plot the diagram. The main function is pyplot.hist(), which we use and paste our data, the defined bins and the colour, width, grid settings and transparancy of the bars. Also, axis titles are given and the upper limit of the graph is defined as the highest frequency + 10%. Please note that this number is extracted from *n*, which is a standard return from the pyplot.hist() function. For details about the returns, visit the function documentation."
   ]
  },
  {
   "cell_type": "code",
   "execution_count": 9,
   "metadata": {},
   "outputs": [
    {
     "name": "stdout",
     "output_type": "stream",
     "text": [
      "\n",
      "\n",
      "Graph Histogram Band A\n",
      "\n",
      "\n"
     ]
    },
    {
     "data": {
      "text/plain": [
       "(0.0, 10.0)"
      ]
     },
     "execution_count": 9,
     "metadata": {},
     "output_type": "execute_result"
    },
    {
     "data": {
      "image/png": "[encoded data removed]",
      "text/plain": [
       "<Figure size 432x288 with 1 Axes>"
      ]
     },
     "metadata": {
      "needs_background": "light"
     },
     "output_type": "display_data"
    }
   ],
   "source": [
    "print(\"\\n\\nGraph Histogram Band A\\n\\n\")\n",
    "n, bins, patches = plt.hist(band_a_array, bins=bins, color='#0504aa', alpha=0.75, rwidth=0.85)\n",
    "plt.grid(axis='y', alpha=0.75)\n",
    "plt.xlabel('Values')\n",
    "plt.ylabel('Frequency')\n",
    "plt.title('Histogram (Band A)')\n",
    "maxfreq = n.max()\n",
    "plt.ylim(ymax=np.ceil(maxfreq / 10) * 10 if maxfreq % 10 else maxfreq + 10)"
   ]
  },
  {
   "cell_type": "code",
   "execution_count": 10,
   "metadata": {},
   "outputs": [
    {
     "name": "stdout",
     "output_type": "stream",
     "text": [
      "\n",
      "\n",
      "Graph Histogram Band B\n",
      "\n",
      "\n"
     ]
    },
    {
     "data": {
      "text/plain": [
       "(0.0, 10.0)"
      ]
     },
     "execution_count": 10,
     "metadata": {},
     "output_type": "execute_result"
    },
    {
     "data": {
      "image/png": "[encoded data removed]",
      "text/plain": [
       "<Figure size 432x288 with 1 Axes>"
      ]
     },
     "metadata": {
      "needs_background": "light"
     },
     "output_type": "display_data"
    }
   ],
   "source": [
    "print(\"\\n\\nGraph Histogram Band B\\n\\n\")\n",
    "n, bins, patches = plt.hist(band_b_array, bins=bins, color='#0504aa', alpha=0.75, rwidth=0.85)\n",
    "plt.grid(axis='y', alpha=0.75)\n",
    "plt.xlabel('Values')\n",
    "plt.ylabel('Frequency')\n",
    "plt.title('Histogram (Band B)')\n",
    "maxfreq = n.max()\n",
    "plt.ylim(ymax=np.ceil(maxfreq / 10) * 10 if maxfreq % 10 else maxfreq + 10)"
   ]
  },
  {
   "cell_type": "markdown",
   "metadata": {},
   "source": [
    "As a further demonstration, here is the same plot for a randomized Laplace distribution dataset (1000 values)"
   ]
  },
  {
   "cell_type": "code",
   "execution_count": 11,
   "metadata": {},
   "outputs": [
    {
     "data": {
      "text/plain": [
       "(0.0, 150.0)"
      ]
     },
     "execution_count": 11,
     "metadata": {},
     "output_type": "execute_result"
    },
    {
     "data": {
      "image/png": "[encoded data removed]",
      "text/plain": [
       "<Figure size 432x288 with 1 Axes>"
      ]
     },
     "metadata": {
      "needs_background": "light"
     },
     "output_type": "display_data"
    }
   ],
   "source": [
    "example = np.random.laplace(loc=15, scale=3, size=1000)\n",
    "bins_example = np.arange(0, np.asarray(example).max() + 1.5) - 0.5\n",
    "\n",
    "n, bins, patches = plt.hist(example, bins=bins_example, color='#0504aa', alpha=0.75, rwidth=0.85)\n",
    "plt.grid(axis='y', alpha=0.75)\n",
    "plt.xlabel('Values')\n",
    "plt.ylabel('Frequency')\n",
    "plt.title('Histogram (Laplace Distribution Example)')\n",
    "maxfreq = n.max()\n",
    "plt.ylim(ymax=np.ceil(maxfreq / 10) * 10 if maxfreq % 10 else maxfreq + 10)"
   ]
  },
  {
   "cell_type": "code",
   "execution_count": 12,
   "metadata": {},
   "outputs": [
    {
     "data": {
      "text/plain": [
       "(0.0, 130.0)"
      ]
     },
     "execution_count": 12,
     "metadata": {},
     "output_type": "execute_result"
    },
    {
     "data": {
      "image/png": "[encoded data removed]",
      "text/plain": [
       "<Figure size 432x288 with 1 Axes>"
      ]
     },
     "metadata": {
      "needs_background": "light"
     },
     "output_type": "display_data"
    }
   ],
   "source": [
    "\n",
    "\n",
    "\n",
    "n, bins, patches = plt.hist(example, bins=\"auto\", color='#0504aa', alpha=0.75, rwidth=0.85)\n",
    "plt.grid(axis='y', alpha=0.75)\n",
    "plt.xlabel('Values')\n",
    "plt.ylabel('Frequency')\n",
    "plt.title('Histogram (Laplace Distribution Example)')\n",
    "maxfreq = n.max()\n",
    "plt.ylim(ymax=np.ceil(maxfreq / 10) * 10 if maxfreq % 10 else maxfreq + 10)"
   ]
  }
 ],
 "metadata": {
  "kernelspec": {
   "display_name": "Python 3",
   "language": "python",
   "name": "python3"
  },
  "language_info": {
   "codemirror_mode": {
    "name": "ipython",
    "version": 3
   },
   "file_extension": ".py",
   "mimetype": "text/x-python",
   "name": "python",
   "nbconvert_exporter": "python",
   "pygments_lexer": "ipython3",
   "version": "3.7.7"
  }
 },
 "nbformat": 4,
 "nbformat_minor": 4
}
